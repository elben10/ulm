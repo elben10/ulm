{
 "cells": [
  {
   "cell_type": "code",
   "execution_count": 1,
   "metadata": {},
   "outputs": [],
   "source": [
    "import sys\n",
    "from fastai.text import *\n",
    "import html\n",
    "import json\n",
    "from fastText import load_model\n",
    "import pandas as pd"
   ]
  },
  {
   "cell_type": "code",
   "execution_count": 2,
   "metadata": {},
   "outputs": [],
   "source": [
    "path = '/Users/danielsafai/DATAMAGA/projects/nlp/ulmfit_v2/'"
   ]
  },
  {
   "cell_type": "code",
   "execution_count": 3,
   "metadata": {},
   "outputs": [],
   "source": [
    "df = pd.read_pickle('/Users/danielsafai/DATAMAGA/projects/nlp/data/sentiment_data.pkl.gz')\n",
    "df = df[['reviewBody','ratingValue']].rename(columns={'reviewBody':'text', 'ratingValue':'label'})"
   ]
  },
  {
   "cell_type": "code",
   "execution_count": 4,
   "metadata": {},
   "outputs": [
    {
     "data": {
      "text/plain": [
       "<matplotlib.axes._subplots.AxesSubplot at 0x1a2954b518>"
      ]
     },
     "execution_count": 4,
     "metadata": {},
     "output_type": "execute_result"
    },
    {
     "data": {
      "image/png": "[encoded data removed]",
      "text/plain": [
       "<Figure size 432x288 with 1 Axes>"
      ]
     },
     "metadata": {
      "needs_background": "light"
     },
     "output_type": "display_data"
    }
   ],
   "source": [
    "df['label'].plot('hist')"
   ]
  },
  {
   "cell_type": "code",
   "execution_count": 5,
   "metadata": {},
   "outputs": [],
   "source": [
    "labels = df['label'].reset_index(drop=True)\n",
    "texts = df['text'].reset_index(drop=True)"
   ]
  },
  {
   "cell_type": "markdown",
   "metadata": {},
   "source": [
    "## Create train and validation data"
   ]
  },
  {
   "cell_type": "code",
   "execution_count": 6,
   "metadata": {},
   "outputs": [],
   "source": [
    "np.random.seed(42)\n",
    "trn_idx = np.random.permutation(len(texts))\n",
    "texts = texts[trn_idx]\n",
    "labels = labels[trn_idx]"
   ]
  },
  {
   "cell_type": "code",
   "execution_count": 7,
   "metadata": {},
   "outputs": [],
   "source": [
    "train_limit = int(len(texts)*0.9)"
   ]
  },
  {
   "cell_type": "code",
   "execution_count": 8,
   "metadata": {},
   "outputs": [],
   "source": [
    "col_names = ['label', 'text']\n",
    "df_trn = pd.DataFrame({'text':texts[:train_limit], 'label':labels[:train_limit]}, columns=col_names)\n",
    "df_val = pd.DataFrame({'text':texts[train_limit:], 'label':labels[train_limit:]}, columns=col_names)"
   ]
  },
  {
   "cell_type": "code",
   "execution_count": 9,
   "metadata": {},
   "outputs": [
    {
     "data": {
      "text/html": [
       "<div>\n",
       "<style scoped>\n",
       "    .dataframe tbody tr th:only-of-type {\n",
       "        vertical-align: middle;\n",
       "    }\n",
       "\n",
       "    .dataframe tbody tr th {\n",
       "        vertical-align: top;\n",
       "    }\n",
       "\n",
       "    .dataframe thead th {\n",
       "        text-align: right;\n",
       "    }\n",
       "</style>\n",
       "<table border=\"1\" class=\"dataframe\">\n",
       "  <thead>\n",
       "    <tr style=\"text-align: right;\">\n",
       "      <th></th>\n",
       "      <th>label</th>\n",
       "      <th>text</th>\n",
       "    </tr>\n",
       "  </thead>\n",
       "  <tbody>\n",
       "    <tr>\n",
       "      <th>120691</th>\n",
       "      <td>5</td>\n",
       "      <td>Tak for hurtigt levering</td>\n",
       "    </tr>\n",
       "    <tr>\n",
       "      <th>141785</th>\n",
       "      <td>5</td>\n",
       "      <td>Det fungerede godt med forsendelsen</td>\n",
       "    </tr>\n",
       "    <tr>\n",
       "      <th>600816</th>\n",
       "      <td>5</td>\n",
       "      <td>Nemt og god service</td>\n",
       "    </tr>\n",
       "    <tr>\n",
       "      <th>600660</th>\n",
       "      <td>5</td>\n",
       "      <td>Ved denne forsendelse var informationen god og...</td>\n",
       "    </tr>\n",
       "    <tr>\n",
       "      <th>528854</th>\n",
       "      <td>5</td>\n",
       "      <td>ingen problemer når man henvender sig ang. ska...</td>\n",
       "    </tr>\n",
       "    <tr>\n",
       "      <th>281006</th>\n",
       "      <td>5</td>\n",
       "      <td>Alt er forløbet som forventet.</td>\n",
       "    </tr>\n",
       "    <tr>\n",
       "      <th>506755</th>\n",
       "      <td>4</td>\n",
       "      <td>Købte en nintendo dsi i pink til min datter og...</td>\n",
       "    </tr>\n",
       "    <tr>\n",
       "      <th>96273</th>\n",
       "      <td>1</td>\n",
       "      <td>Jeg har nu 3 gange fået en besked om at posten...</td>\n",
       "    </tr>\n",
       "    <tr>\n",
       "      <th>355520</th>\n",
       "      <td>5</td>\n",
       "      <td>Jeg er glad men produkter og levering . Jeg vi...</td>\n",
       "    </tr>\n",
       "    <tr>\n",
       "      <th>455180</th>\n",
       "      <td>5</td>\n",
       "      <td>Totalt nemt og hurtigt</td>\n",
       "    </tr>\n",
       "    <tr>\n",
       "      <th>145509</th>\n",
       "      <td>5</td>\n",
       "      <td>Hurtig forsendelse</td>\n",
       "    </tr>\n",
       "    <tr>\n",
       "      <th>572855</th>\n",
       "      <td>5</td>\n",
       "      <td>Jeg havde absolut ingen problemer  -  hverken ...</td>\n",
       "    </tr>\n",
       "    <tr>\n",
       "      <th>81155</th>\n",
       "      <td>4</td>\n",
       "      <td>God og forholdsvis hurtig service!!</td>\n",
       "    </tr>\n",
       "    <tr>\n",
       "      <th>568647</th>\n",
       "      <td>5</td>\n",
       "      <td>God service \\nHavde ikke hørt at det bankede p...</td>\n",
       "    </tr>\n",
       "    <tr>\n",
       "      <th>227812</th>\n",
       "      <td>5</td>\n",
       "      <td>Fremragende</td>\n",
       "    </tr>\n",
       "  </tbody>\n",
       "</table>\n",
       "</div>"
      ],
      "text/plain": [
       "        label                                               text\n",
       "120691      5                           Tak for hurtigt levering\n",
       "141785      5                Det fungerede godt med forsendelsen\n",
       "600816      5                                Nemt og god service\n",
       "600660      5  Ved denne forsendelse var informationen god og...\n",
       "528854      5  ingen problemer når man henvender sig ang. ska...\n",
       "281006      5                     Alt er forløbet som forventet.\n",
       "506755      4  Købte en nintendo dsi i pink til min datter og...\n",
       "96273       1  Jeg har nu 3 gange fået en besked om at posten...\n",
       "355520      5  Jeg er glad men produkter og levering . Jeg vi...\n",
       "455180      5                             Totalt nemt og hurtigt\n",
       "145509      5                                 Hurtig forsendelse\n",
       "572855      5  Jeg havde absolut ingen problemer  -  hverken ...\n",
       "81155       4                God og forholdsvis hurtig service!!\n",
       "568647      5  God service \\nHavde ikke hørt at det bankede p...\n",
       "227812      5                                        Fremragende"
      ]
     },
     "execution_count": 9,
     "metadata": {},
     "output_type": "execute_result"
    }
   ],
   "source": [
    "df_trn.head(15)"
   ]
  },
  {
   "cell_type": "code",
   "execution_count": 10,
   "metadata": {},
   "outputs": [],
   "source": [
    "df_trn.to_csv(path+'train.csv', header=False, index=False)\n",
    "df_val.to_csv(path+'validation.csv', header=False, index=False)"
   ]
  },
  {
   "cell_type": "markdown",
   "metadata": {},
   "source": [
    "### Tokenize and clean texts"
   ]
  },
  {
   "cell_type": "code",
   "execution_count": 11,
   "metadata": {},
   "outputs": [],
   "source": [
    "tok_trn = Tokenizer(lang='da').process_all(df_trn['text'])"
   ]
  },
  {
   "cell_type": "code",
   "execution_count": 12,
   "metadata": {},
   "outputs": [],
   "source": [
    "tok_val = Tokenizer(lang='da').process_all(df_val['text'])"
   ]
  },
  {
   "cell_type": "code",
   "execution_count": 13,
   "metadata": {},
   "outputs": [],
   "source": [
    "tok_trn = [['xxbos']+sentence+['xxeos'] for sentence in tok_trn]\n",
    "tok_val = [['xxbos']+sentence+['xxeos'] for sentence in tok_val]"
   ]
  },
  {
   "cell_type": "code",
   "execution_count": 14,
   "metadata": {},
   "outputs": [
    {
     "data": {
      "text/plain": [
       "[['xxbos', 'xxmaj', 'tak', 'for', 'hurtigt', 'levering', 'xxeos'],\n",
       " ['xxbos',\n",
       "  'xxmaj',\n",
       "  'det',\n",
       "  'fungerede',\n",
       "  'godt',\n",
       "  'med',\n",
       "  'forsendelsen',\n",
       "  'xxeos'],\n",
       " ['xxbos', 'xxmaj', 'nemt', 'og', 'god', 'service', 'xxeos'],\n",
       " ['xxbos',\n",
       "  'xxmaj',\n",
       "  'ved',\n",
       "  'denne',\n",
       "  'forsendelse',\n",
       "  'var',\n",
       "  'informationen',\n",
       "  'god',\n",
       "  'og',\n",
       "  'leveringen',\n",
       "  'hurtig',\n",
       "  '.',\n",
       "  'xxeos'],\n",
       " ['xxbos',\n",
       "  'ingen',\n",
       "  'problemer',\n",
       "  'når',\n",
       "  'man',\n",
       "  'henvender',\n",
       "  'sig',\n",
       "  'ang.',\n",
       "  'skader',\n",
       "  'og',\n",
       "  'lignende',\n",
       "  'god',\n",
       "  'og',\n",
       "  'venlig',\n",
       "  'behandling',\n",
       "  'xxeos']]"
      ]
     },
     "execution_count": 14,
     "metadata": {},
     "output_type": "execute_result"
    }
   ],
   "source": [
    "tok_trn[:5]"
   ]
  },
  {
   "cell_type": "code",
   "execution_count": 15,
   "metadata": {},
   "outputs": [],
   "source": [
    "np.save(path+'lang_model/lbl_trn.npy', list(df_trn['label']))\n",
    "np.save(path+'lang_model/lbl_val.npy', list(df_val['label']))\n",
    "np.save(path+'lang_model/tok_trn.npy', tok_trn)\n",
    "np.save(path+'lang_model/tok_val.npy', tok_val)"
   ]
  },
  {
   "cell_type": "markdown",
   "metadata": {},
   "source": [
    "### Create dictionaries"
   ]
  },
  {
   "cell_type": "code",
   "execution_count": 16,
   "metadata": {},
   "outputs": [],
   "source": [
    "tok_trn = np.load(path+'lang_model/tok_trn.npy', allow_pickle=True)\n",
    "tok_val = np.load(path+'lang_model/tok_val.npy', allow_pickle=True)"
   ]
  },
  {
   "cell_type": "code",
   "execution_count": 17,
   "metadata": {},
   "outputs": [
    {
     "data": {
      "text/plain": [
       "[('xxmaj', 1524036),\n",
       " ('.', 879951),\n",
       " (',', 712036),\n",
       " ('xxbos', 565433),\n",
       " ('xxeos', 565433),\n",
       " ('og', 551523),\n",
       " ('jeg', 530974),\n",
       " ('at', 514003),\n",
       " ('det', 386202),\n",
       " ('i', 356810),\n",
       " ('er', 356440),\n",
       " ('en', 309872),\n",
       " ('til', 303063),\n",
       " ('ikke', 284566),\n",
       " ('på', 275417),\n",
       " ('har', 222596),\n",
       " ('den', 216514),\n",
       " ('var', 196664),\n",
       " ('med', 196406),\n",
       " ('for', 189087)]"
      ]
     },
     "execution_count": 17,
     "metadata": {},
     "output_type": "execute_result"
    }
   ],
   "source": [
    "freq = Counter(p for o in tok_trn for p in o)\n",
    "freq.most_common(20)"
   ]
  },
  {
   "cell_type": "code",
   "execution_count": 18,
   "metadata": {},
   "outputs": [],
   "source": [
    "max_vocab = 60000\n",
    "min_freq = 2"
   ]
  },
  {
   "cell_type": "code",
   "execution_count": 19,
   "metadata": {},
   "outputs": [],
   "source": [
    "itos = [o for o,c in freq.most_common(max_vocab) if c>min_freq]\n",
    "itos.insert(0, '_pad_')\n",
    "itos.insert(0, '_unk_')"
   ]
  },
  {
   "cell_type": "code",
   "execution_count": 20,
   "metadata": {},
   "outputs": [
    {
     "data": {
      "text/plain": [
       "51890"
      ]
     },
     "execution_count": 20,
     "metadata": {},
     "output_type": "execute_result"
    }
   ],
   "source": [
    "stoi = collections.defaultdict(lambda:0, {v:k for k,v in enumerate(itos)})\n",
    "len(itos)"
   ]
  },
  {
   "cell_type": "code",
   "execution_count": 21,
   "metadata": {},
   "outputs": [],
   "source": [
    "# Numericalize tokens by their id\n",
    "trn_lm = np.array([[stoi[o] for o in p] for p in tok_trn])\n",
    "val_lm = np.array([[stoi[o] for o in p] for p in tok_val])"
   ]
  },
  {
   "cell_type": "code",
   "execution_count": 22,
   "metadata": {},
   "outputs": [],
   "source": [
    "np.save(path+'lang_model/trn_ids.npy', trn_lm)\n",
    "np.save(path+'lang_model/val_ids.npy', val_lm)\n",
    "pickle.dump(itos, open(path+'lang_model/itos.pkl', 'wb'))"
   ]
  },
  {
   "cell_type": "markdown",
   "metadata": {},
   "source": [
    "### Create embedding matrix"
   ]
  },
  {
   "cell_type": "code",
   "execution_count": 23,
   "metadata": {},
   "outputs": [],
   "source": [
    "# Set parameters\n",
    "vs = len(itos)\n",
    "wd=1e-7\n",
    "bptt=70\n",
    "bs=64\n",
    "em_sz,nh,nl = 300,1150,3\n",
    "opt_fn = partial(optim.SGD, momentum=0.9)"
   ]
  },
  {
   "cell_type": "code",
   "execution_count": 24,
   "metadata": {},
   "outputs": [],
   "source": [
    "f = load_model('/Users/danielsafai/DATAMAGA/projects/nlp/data/embedding data/cc.da.300.bin')"
   ]
  },
  {
   "cell_type": "code",
   "execution_count": 25,
   "metadata": {},
   "outputs": [],
   "source": [
    "embedding_matrix = np.zeros((vs, em_sz), dtype=np.float32)\n",
    "for i,w in enumerate(itos):\n",
    "    embedding_matrix[i] = np.array(list(f.get_word_vector(w)))#+list(np.zeros(100))) # ARGH!!!"
   ]
  },
  {
   "cell_type": "code",
   "execution_count": 26,
   "metadata": {},
   "outputs": [],
   "source": [
    "# Torchify embedding matrix\n",
    "embed = nn.Embedding(embedding_matrix.shape[0], embedding_matrix.shape[1])\n",
    "embed = embed.weight.data.copy_(torch.from_numpy(embedding_matrix))"
   ]
  },
  {
   "cell_type": "markdown",
   "metadata": {},
   "source": [
    "### Prepare model"
   ]
  },
  {
   "cell_type": "code",
   "execution_count": 27,
   "metadata": {},
   "outputs": [],
   "source": [
    "data_lm = TextLMDataBunch.from_ids(path=path+\"lang_model\", vocab=Vocab(itos), \n",
    "                                   train_ids=trn_lm, valid_ids=val_lm)"
   ]
  },
  {
   "cell_type": "code",
   "execution_count": 28,
   "metadata": {},
   "outputs": [],
   "source": [
    "config = awd_lstm_lm_config.copy()\n",
    "config['emb_sz'] = em_sz\n",
    "config['n_hid'] = nh\n",
    "config['n_layers'] = nl"
   ]
  },
  {
   "cell_type": "code",
   "execution_count": 43,
   "metadata": {},
   "outputs": [],
   "source": [
    "_model_meta = {AWD_LSTM: {'hid_name':'emb_sz', 'url':URLs.WT103_FWD, 'url_bwd':URLs.WT103_BWD,\n",
    "                          'config_lm':awd_lstm_lm_config, 'split_lm': awd_lstm_lm_split,\n",
    "                          'config_clas':awd_lstm_clas_config, 'split_clas': awd_lstm_clas_split},\n",
    "               Transformer: {'hid_name':'d_model', 'url':URLs.OPENAI_TRANSFORMER,\n",
    "                             'config_lm':tfmer_lm_config, 'split_lm': tfmer_lm_split,\n",
    "                             'config_clas':tfmer_clas_config, 'split_clas': tfmer_clas_split},\n",
    "               TransformerXL: {'hid_name':'d_model',\n",
    "                              'config_lm':tfmerXL_lm_config, 'split_lm': tfmerXL_lm_split,\n",
    "                              'config_clas':tfmerXL_clas_config, 'split_clas': tfmerXL_clas_split}}\n",
    "_model_meta[AWD_LSTM][\"config_lm\"][\"emb_sz\"] = 300"
   ]
  },
  {
   "cell_type": "code",
   "execution_count": 47,
   "metadata": {},
   "outputs": [],
   "source": [
    "def get_language_model(arch:Callable, vocab_sz:int, config:dict=None, drop_mult:float=1.):\n",
    "    \"Create a language model from `arch` and its `config`, maybe `pretrained`.\"\n",
    "    meta = _model_meta[AWD_LSTM]\n",
    "    #print(meta['config_lm'])\n",
    "    config = ifnone(config, meta['config_lm']).copy()\n",
    "    for k in config.keys():\n",
    "        if k.endswith('_p'): config[k] *= drop_mult\n",
    "    tie_weights,output_p,out_bias = map(config.pop, ['tie_weights', 'output_p', 'out_bias'])\n",
    "    init = config.pop('init') if 'init' in config else None\n",
    "    encoder = arch(vocab_sz, **config)\n",
    "    enc = encoder.encoder if tie_weights else None\n",
    "    decoder = LinearDecoder(vocab_sz, config[meta['hid_name']], output_p, tie_encoder=enc, bias=out_bias)\n",
    "    model = SequentialRNN(encoder, decoder)\n",
    "    return model if init is None else model.apply(init)"
   ]
  },
  {
   "cell_type": "code",
   "execution_count": 48,
   "metadata": {},
   "outputs": [],
   "source": [
    "def language_model_learner(data:DataBunch, arch, config:dict=None, drop_mult:float=1., pretrained:bool=True,\n",
    "                           pretrained_fnames:OptStrTuple=None, **learn_kwargs) -> 'LanguageLearner':\n",
    "    \"Create a `Learner` with a language model from `data` and `arch`.\"\n",
    "    model = get_language_model(arch, len(data.vocab.itos), config=config, drop_mult=drop_mult)\n",
    "    meta = _model_meta[arch]\n",
    "    learn = LanguageLearner(data, model, split_func=meta['split_lm'], **learn_kwargs)\n",
    "    url = 'url_bwd' if data.backwards else 'url'\n",
    "    if pretrained or pretrained_fnames:\n",
    "        if pretrained_fnames is not None:\n",
    "            fnames = [learn.path/learn.model_dir/f'{fn}.{ext}' for fn,ext in zip(pretrained_fnames, ['pth', 'pkl'])]\n",
    "        else:\n",
    "            if url not in meta:\n",
    "                warn(\"There are no pretrained weights for that architecture yet!\")\n",
    "                return learn\n",
    "            model_path = untar_data(meta[url] , data=False)\n",
    "            fnames = [list(model_path.glob(f'*.{ext}'))[0] for ext in ['pth', 'pkl']]\n",
    "        learn.load_pretrained(*fnames)\n",
    "        learn.freeze()\n",
    "    return learn"
   ]
  },
  {
   "cell_type": "code",
   "execution_count": 58,
   "metadata": {},
   "outputs": [],
   "source": [
    "learner = language_model_learner(data_lm, AWD_LSTM, pretrained=False)"
   ]
  },
  {
   "cell_type": "code",
   "execution_count": 60,
   "metadata": {},
   "outputs": [],
   "source": [
    "# Save encoder to re-write weights with custom embedding matrix\n",
    "learner.save_encoder(path+'lang_model/eng_enc2')"
   ]
  },
  {
   "cell_type": "code",
   "execution_count": 61,
   "metadata": {},
   "outputs": [],
   "source": [
    "# Load and overwrite weights\n",
    "wgts = torch.load(path+'lang_model/eng_enc2.pth')\n",
    "wgts['encoder.weight'] = embed\n",
    "wgts['encoder_dp.emb.weight'] = embed"
   ]
  },
  {
   "cell_type": "code",
   "execution_count": 63,
   "metadata": {},
   "outputs": [],
   "source": [
    "torch.save(wgts,path+'lang_model/dk_enc2.pth')"
   ]
  },
  {
   "cell_type": "code",
   "execution_count": 65,
   "metadata": {},
   "outputs": [],
   "source": [
    "# Update learner with new encoder\n",
    "learner.load_encoder(path+'lang_model/dk_enc2')"
   ]
  },
  {
   "cell_type": "code",
   "execution_count": null,
   "metadata": {},
   "outputs": [
    {
     "data": {
      "text/html": [
       "\n",
       "    <div>\n",
       "        <style>\n",
       "            /* Turns off some styling */\n",
       "            progress {\n",
       "                /* gets rid of default border in Firefox and Opera. */\n",
       "                border: none;\n",
       "                /* Needs to be in here for Safari polyfill so background images work as expected. */\n",
       "                background-size: auto;\n",
       "            }\n",
       "            .progress-bar-interrupted, .progress-bar-interrupted::-webkit-progress-bar {\n",
       "                background: #F44336;\n",
       "            }\n",
       "        </style>\n",
       "      <progress value='0' class='' max='1', style='width:300px; height:20px; vertical-align: middle;'></progress>\n",
       "      0.00% [0/1 00:00<00:00]\n",
       "    </div>\n",
       "    \n",
       "<table border=\"1\" class=\"dataframe\">\n",
       "  <thead>\n",
       "    <tr style=\"text-align: left;\">\n",
       "      <th>epoch</th>\n",
       "      <th>train_loss</th>\n",
       "      <th>valid_loss</th>\n",
       "      <th>accuracy</th>\n",
       "      <th>time</th>\n",
       "    </tr>\n",
       "  </thead>\n",
       "  <tbody>\n",
       "  </tbody>\n",
       "</table><p>\n",
       "\n",
       "    <div>\n",
       "        <style>\n",
       "            /* Turns off some styling */\n",
       "            progress {\n",
       "                /* gets rid of default border in Firefox and Opera. */\n",
       "                border: none;\n",
       "                /* Needs to be in here for Safari polyfill so background images work as expected. */\n",
       "                background-size: auto;\n",
       "            }\n",
       "            .progress-bar-interrupted, .progress-bar-interrupted::-webkit-progress-bar {\n",
       "                background: #F44336;\n",
       "            }\n",
       "        </style>\n",
       "      <progress value='16' class='' max='5101', style='width:300px; height:20px; vertical-align: middle;'></progress>\n",
       "      0.31% [16/5101 02:50<15:05:12 10.8499]\n",
       "    </div>\n",
       "    "
      ],
      "text/plain": [
       "<IPython.core.display.HTML object>"
      ]
     },
     "metadata": {},
     "output_type": "display_data"
    }
   ],
   "source": [
    "learner.lr_find()"
   ]
  },
  {
   "cell_type": "code",
   "execution_count": null,
   "metadata": {},
   "outputs": [],
   "source": [
    "# Save encoder to re-write weights with custom embedding matrix\n",
    "learn.save_encoder(path+'lang_model/eng_enc')"
   ]
  },
  {
   "cell_type": "code",
   "execution_count": null,
   "metadata": {},
   "outputs": [],
   "source": []
  },
  {
   "cell_type": "code",
   "execution_count": null,
   "metadata": {},
   "outputs": [],
   "source": []
  },
  {
   "cell_type": "code",
   "execution_count": null,
   "metadata": {},
   "outputs": [],
   "source": []
  },
  {
   "cell_type": "code",
   "execution_count": 52,
   "metadata": {},
   "outputs": [],
   "source": [
    "# Load and overwrite weights\n",
    "wgts = torch.load(path+'lang_model/eng_enc.pth')\n",
    "wgts['encoder.weight'] = embed\n",
    "wgts['encoder_dp.emb.weight'] = embed"
   ]
  },
  {
   "cell_type": "code",
   "execution_count": 53,
   "metadata": {},
   "outputs": [],
   "source": [
    "torch.save(wgts,path+'lang_model/dk_enc.pth')"
   ]
  },
  {
   "cell_type": "code",
   "execution_count": 54,
   "metadata": {},
   "outputs": [
    {
     "ename": "NameError",
     "evalue": "name 'learn' is not defined",
     "output_type": "error",
     "traceback": [
      "\u001b[0;31m---------------------------------------------------------------------------\u001b[0m",
      "\u001b[0;31mNameError\u001b[0m                                 Traceback (most recent call last)",
      "\u001b[0;32m<ipython-input-54-72640bda30ef>\u001b[0m in \u001b[0;36m<module>\u001b[0;34m\u001b[0m\n\u001b[1;32m      1\u001b[0m \u001b[0;31m# Update learner with new encoder\u001b[0m\u001b[0;34m\u001b[0m\u001b[0;34m\u001b[0m\u001b[0;34m\u001b[0m\u001b[0m\n\u001b[0;32m----> 2\u001b[0;31m \u001b[0mlearn\u001b[0m\u001b[0;34m.\u001b[0m\u001b[0mload_encoder\u001b[0m\u001b[0;34m(\u001b[0m\u001b[0mpath\u001b[0m\u001b[0;34m+\u001b[0m\u001b[0;34m'lang_model/dk_enc'\u001b[0m\u001b[0;34m)\u001b[0m\u001b[0;34m\u001b[0m\u001b[0;34m\u001b[0m\u001b[0m\n\u001b[0m",
      "\u001b[0;31mNameError\u001b[0m: name 'learn' is not defined"
     ]
    }
   ],
   "source": [
    "# Update learner with new encoder\n",
    "learn.load_encoder(path+'lang_model/dk_enc')"
   ]
  },
  {
   "cell_type": "markdown",
   "metadata": {},
   "source": [
    "### Model estimation"
   ]
  },
  {
   "cell_type": "code",
   "execution_count": null,
   "metadata": {},
   "outputs": [],
   "source": [
    "learn.lr_find()"
   ]
  },
  {
   "cell_type": "code",
   "execution_count": null,
   "metadata": {},
   "outputs": [],
   "source": [
    "learn.recorder.plot(suggestion=True)"
   ]
  },
  {
   "cell_type": "code",
   "execution_count": null,
   "metadata": {},
   "outputs": [],
   "source": [
    "learn.fit_one_cycle(1, 2.51E-01, moms=(0.8,0.7))"
   ]
  },
  {
   "cell_type": "code",
   "execution_count": null,
   "metadata": {},
   "outputs": [],
   "source": [
    "learn.save(path+'lang_model/fit_head')"
   ]
  },
  {
   "cell_type": "code",
   "execution_count": null,
   "metadata": {},
   "outputs": [],
   "source": [
    "learn.load(path+'lang_model/fit_head');"
   ]
  },
  {
   "cell_type": "code",
   "execution_count": null,
   "metadata": {},
   "outputs": [],
   "source": [
    "learn.unfreeze()"
   ]
  },
  {
   "cell_type": "code",
   "execution_count": null,
   "metadata": {},
   "outputs": [],
   "source": [
    "learn.fit_one_cycle(20, 1e-3, moms=(0.8,0.7))"
   ]
  },
  {
   "cell_type": "code",
   "execution_count": null,
   "metadata": {},
   "outputs": [],
   "source": [
    "learn.save(path+'lang_model/fine_tuned')"
   ]
  },
  {
   "cell_type": "code",
   "execution_count": null,
   "metadata": {},
   "outputs": [],
   "source": [
    "learn.load(path+'lang_model/fine_tuned');"
   ]
  },
  {
   "cell_type": "code",
   "execution_count": null,
   "metadata": {},
   "outputs": [],
   "source": [
    "learn.save_encoder(path+'lang_model/fine_tuned_enc')"
   ]
  },
  {
   "cell_type": "markdown",
   "metadata": {},
   "source": [
    "### Test"
   ]
  },
  {
   "cell_type": "code",
   "execution_count": null,
   "metadata": {},
   "outputs": [],
   "source": [
    "TEXT = \"Tak for rigtig god service.\"\n",
    "N_WORDS = 40\n",
    "N_SENTENCES = 2"
   ]
  },
  {
   "cell_type": "code",
   "execution_count": null,
   "metadata": {},
   "outputs": [],
   "source": [
    "print(\"\\n\".join(learn.predict(TEXT, N_WORDS, temperature=0.75) for _ in range(N_SENTENCES)))"
   ]
  },
  {
   "cell_type": "markdown",
   "metadata": {},
   "source": [
    "### Classification"
   ]
  },
  {
   "cell_type": "code",
   "execution_count": null,
   "metadata": {},
   "outputs": [],
   "source": [
    "import gc\n",
    "gc.enable()"
   ]
  },
  {
   "cell_type": "code",
   "execution_count": null,
   "metadata": {},
   "outputs": [],
   "source": [
    "gc.collect()"
   ]
  },
  {
   "cell_type": "code",
   "execution_count": null,
   "metadata": {},
   "outputs": [],
   "source": [
    "# Load data\n",
    "itos = pickle.load(open(path+'lang_model/itos.pkl', 'rb'))\n",
    "trn_lm = np.load(path+'lang_model/trn_ids.npy', allow_pickle=True)\n",
    "val_lm = np.load(path+'lang_model/val_ids.npy', allow_pickle=True)"
   ]
  },
  {
   "cell_type": "code",
   "execution_count": null,
   "metadata": {},
   "outputs": [],
   "source": [
    "df_trn = pd.read_csv(path+'train.csv', header=None, names=col_names)\n",
    "df_val = pd.read_csv(path+'validation.csv', header=None, names=col_names)"
   ]
  },
  {
   "cell_type": "code",
   "execution_count": null,
   "metadata": {},
   "outputs": [],
   "source": [
    "data_clas = TextDataBunch.from_ids(path=path+\"lang_model\", vocab=Vocab(itos), \n",
    "                                   train_ids=trn_lm, valid_ids=val_lm, \n",
    "                                   train_lbls=, valid_lbls=)"
   ]
  },
  {
   "cell_type": "code",
   "execution_count": null,
   "metadata": {},
   "outputs": [],
   "source": [
    "df_trn['text']"
   ]
  },
  {
   "cell_type": "code",
   "execution_count": null,
   "metadata": {},
   "outputs": [],
   "source": [
    "def f_ids_to_sentence(ids, itos):\n",
    "    tmp = {i:w for i,w in enumerate(itos)}\n",
    "    print(' '.join([tmp[i] for i in ids]))\n",
    "f_ids_to_sentence(trn_lm[0], itos)"
   ]
  },
  {
   "cell_type": "code",
   "execution_count": null,
   "metadata": {},
   "outputs": [],
   "source": []
  },
  {
   "cell_type": "code",
   "execution_count": null,
   "metadata": {},
   "outputs": [],
   "source": []
  },
  {
   "cell_type": "code",
   "execution_count": null,
   "metadata": {},
   "outputs": [],
   "source": []
  },
  {
   "cell_type": "code",
   "execution_count": null,
   "metadata": {},
   "outputs": [],
   "source": []
  }
 ],
 "metadata": {
  "kernelspec": {
   "display_name": "Python 3",
   "language": "python",
   "name": "python3"
  },
  "language_info": {
   "codemirror_mode": {
    "name": "ipython",
    "version": 3
   },
   "file_extension": ".py",
   "mimetype": "text/x-python",
   "name": "python",
   "nbconvert_exporter": "python",
   "pygments_lexer": "ipython3",
   "version": "3.7.1"
  }
 },
 "nbformat": 4,
 "nbformat_minor": 2
}
